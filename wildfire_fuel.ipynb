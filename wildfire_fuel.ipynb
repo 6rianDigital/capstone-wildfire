{
 "cells": [
  {
   "cell_type": "markdown",
   "metadata": {},
   "source": [
    "# GISY6400 Capstone - Wildfire Hazard: Fuel Mapping"
   ]
  },
  {
   "cell_type": "markdown",
   "metadata": {},
   "source": [
    "Program: wildfire_fuel.ipynb  \n",
    "Programmer: Brian Gauthier  \n",
    "Purpose: This notebook produces fuel products for wildfire hazard mapping (NDVI, EVI, etc)  \n",
    "Date: May 5, 2025"
   ]
  },
  {
   "cell_type": "markdown",
   "metadata": {},
   "source": [
    "### Import Python Modules"
   ]
  },
  {
   "cell_type": "code",
   "execution_count": null,
   "metadata": {},
   "outputs": [],
   "source": [
    "import arcpy\n",
    "import os\n",
    "from arcpy.sa import *"
   ]
  },
  {
   "cell_type": "markdown",
   "metadata": {},
   "source": [
    "### Paths & Workspace Setup"
   ]
  },
  {
   "cell_type": "code",
   "execution_count": null,
   "metadata": {},
   "outputs": [],
   "source": [
    "# Get project directory\n",
    "aprx = arcpy.mp.ArcGISProject(\"CURRENT\")\n",
    "gis_dir = os.path.dirname(aprx.filePath)\n",
    "project_dir = os.path.dirname(gis_dir)\n",
    "\n",
    "# Directory structure\n",
    "raw_dir = os.path.join(project_dir, \"data\", \"raw\")\n",
    "extract_dir = os.path.join(project_dir, \"data\", \"extracted\")\n",
    "proc_dir = os.path.join(project_dir, \"data\", \"processed\")\n",
    "land_mask_path = os.path.join(project_dir, \"gis\", \"capstone.gdb\", \"hydro_la_poly\")\n",
    "sentinel_path = os.path.join(proc_dir, \"sentinel_2_mosaic_utm_clipped.tif\")\n",
    "\n",
    "# Create folders if they don't exist\n",
    "os.makedirs(raw_dir, exist_ok=True)\n",
    "os.makedirs(extract_dir, exist_ok=True)\n",
    "os.makedirs(proc_dir, exist_ok=True)"
   ]
  },
  {
   "cell_type": "code",
   "execution_count": null,
   "metadata": {},
   "outputs": [],
   "source": [
    "# Set ArcPy Workspace & overwrite options\n",
    "arcpy.env.workspace = os.path.join(project_dir, \"gis\", \"capstone.gdb\")\n",
    "arcpy.env.overwriteOutput = True\n",
    "\n",
    "arcpy.CheckOutExtension(\"Spatial\")"
   ]
  },
  {
   "cell_type": "markdown",
   "metadata": {},
   "source": [
    "### Calculate NDVI"
   ]
  },
  {
   "cell_type": "code",
   "execution_count": null,
   "metadata": {
    "scrolled": true
   },
   "outputs": [],
   "source": [
    "# load multiband raster\n",
    "sentinel_raster = Raster(sentinel_path)\n",
    "\n",
    "# Extract Band 8 (NIR) and Band 4 (Red)\n",
    "nir = Raster(f\"{sentinel_path}\\\\Band_8\")\n",
    "red = Raster(f\"{sentinel_path}\\\\Band_4\")\n",
    "\n",
    "# Compute NDVI\n",
    "ndvi = (nir - red) / (nir + red)\n",
    "\n",
    "# Mask NDVI by land area\n",
    "ndvi_masked = ExtractByMask(ndvi, land_mask_path)\n",
    "\n",
    "# Save result\n",
    "ndvi_masked_output = os.path.join(proc_dir, \"ndvi.tif\")\n",
    "ndvi_masked.save(ndvi_masked_output)\n",
    "\n",
    "print(f\"NDVI calculation complete. Output saved as {ndvi_masked_output}\")"
   ]
  },
  {
   "cell_type": "code",
   "execution_count": null,
   "metadata": {},
   "outputs": [],
   "source": [
    "# Check the range of values\n",
    "\n",
    "# Open the raster\n",
    "ndvi_raster = arcpy.sa.Raster(ndvi_masked_output)\n",
    "\n",
    "# Get the minimum and maximum values of the NDVI raster\n",
    "min_value = ndvi_raster.minimum\n",
    "max_value = ndvi_raster.maximum\n",
    "\n",
    "print(f\"Minimum NDVI value: {min_value}\")\n",
    "print(f\"Maximum NDVI value: {max_value}\")"
   ]
  },
  {
   "cell_type": "markdown",
   "metadata": {},
   "source": [
    "### Reclassify NDVI"
   ]
  },
  {
   "cell_type": "code",
   "execution_count": null,
   "metadata": {},
   "outputs": [],
   "source": [
    "# Define the reclassification ranges and values\n",
    "reclass_ranges = [\n",
    "    (-0.254341, 0, 0),   # Null\n",
    "    (0, 0.1, 1),         # Very Low (Bare soil/rock)\n",
    "    (0.1, 0.3, 2),       # Low (Sparse Vegetation/grass)\n",
    "    (0.3, 0.45, 3),       # Moderate (Moderate Vegetation)\n",
    "    (0.45, 0.62721, 4)    # High (Dense Vegetation)\n",
    "]\n",
    "\n",
    "# Create a Reclassification function\n",
    "reclass_list = []\n",
    "for low, high, new_value in reclass_ranges:\n",
    "    reclass_list.append([low, high, new_value])\n",
    "\n",
    "# Reclassify NDVI\n",
    "ndvi_reclass = Reclassify(ndvi_masked, \"Value\", RemapRange(reclass_list))\n",
    "\n",
    "# Save the reclassified raster\n",
    "ndvi_reclass_path = os.path.join(arcpy.env.workspace, \"ndvi_masked_reclass\")\n",
    "ndvi_reclass.save(ndvi_reclass_path)\n",
    "\n",
    "print(f\"NDVI reclassification complete. Output saved as {ndvi_reclass_path}\")"
   ]
  },
  {
   "cell_type": "markdown",
   "metadata": {},
   "source": [
    "### Calculate EVI"
   ]
  },
  {
   "cell_type": "code",
   "execution_count": null,
   "metadata": {
    "scrolled": true
   },
   "outputs": [],
   "source": [
    "# Constants used in the EVI formula\n",
    "G = 2.5   # Gain factor (sensistivity of the index to the vegetation)\n",
    "C1 = 6.0  # Correction factor to reduce the effect of red light scattering in the atmosphere\n",
    "C2 = 7.5  # Correction factor to reduce the effect of blue light scattering (aerosols)\n",
    "L = 1.0  # Small constant to prevent division by zero and reduce noise in low vegetation areas\n",
    "scale_factor = 10000.0 # Scale factor for sentinel-2 reflectance\n",
    "\n",
    "# Load individual bands from the Sentinel-2 mosaic\n",
    "blue = Raster(f\"{sentinel_path}\\\\Band_2\") / scale_factor  # Blue band (used for aerosol resistance)\n",
    "red = Raster(f\"{sentinel_path}\\\\Band_4\") / scale_factor  # Red band (used for vegetation contrast)\n",
    "nir = Raster(f\"{sentinel_path}\\\\Band_8\") / scale_factor  # Near-infrared band (strongly reflected by vegetation)\n",
    "\n",
    "# Compute the Enhanced Vegetation Index (EVI)\n",
    "evi = G * ((nir - red) / (nir + C1 * red - C2 * blue + L))\n",
    "\n",
    "# Mask EVI to limit values to land area only\n",
    "evi_masked = ExtractByMask(evi, land_mask_path)\n",
    "\n",
    "# Clip extreme EVI values to avoid values outside the valid range (-1 to 1)\n",
    "# The problem was here, using `evi_masked` as raster data in Con properly\n",
    "# Replace values outside [-1, 1] with NoData\n",
    "evi_clipped = Con(((evi_masked >= -1) & (evi_masked <= 1)), evi_masked)\n",
    "\n",
    "\n",
    "# Define output path for the masked EVI raster\n",
    "evi_clipped_output = os.path.join(proc_dir, \"evi_clipped.tif\")\n",
    "evi_clipped.save(evi_clipped_output)\n",
    "\n",
    "print(f\"EVI calculation complete. Output saved as {evi_clipped_output}\")"
   ]
  },
  {
   "cell_type": "code",
   "execution_count": null,
   "metadata": {},
   "outputs": [],
   "source": [
    "# Check the range of values\n",
    "\n",
    "# Open the raster\n",
    "evi_raster = arcpy.sa.Raster(evi_clipped_output)\n",
    "\n",
    "# Get the minimum and maximum values of the EVI raster\n",
    "min_value = evi_raster.minimum\n",
    "max_value = evi_raster.maximum\n",
    "\n",
    "print(f\"Minimum EVI value: {min_value}\")\n",
    "print(f\"Maximum EVI value: {max_value}\")"
   ]
  },
  {
   "cell_type": "markdown",
   "metadata": {},
   "source": [
    "### Reclassify EVI"
   ]
  },
  {
   "cell_type": "code",
   "execution_count": null,
   "metadata": {},
   "outputs": [],
   "source": [
    "# Reclassification ranges for EVI values\n",
    "evi_reclass_ranges = [\n",
    "    (-1.0, 0.0, 0),     # Class 0: Water or non-vegetated surfaces (low EVI)\n",
    "    (0.0, 0.2, 1),      # Class 1: Very low vegetation (bare soil/urban)\n",
    "    (0.2, 0.4, 2),      # Class 2: Low vegetation (sparse vegetation)\n",
    "    (0.4, 0.6, 3),      # Class 3: Moderate vegetation (moderate vegetation)\n",
    "    (0.6, 1.0, 4)       # Class 4: High vegetation (dense vegetation)\n",
    "]\n",
    "\n",
    "\n",
    "# Convert ranges to the format required by RemapRange\n",
    "evi_reclass_list = [[low, high, value] for (low, high, value) in evi_reclass_ranges]\n",
    "\n",
    "# Reclassify the masked EVI raster into vegetation density classes\n",
    "evi_reclass = Reclassify(evi_clipped, \"Value\", RemapRange(evi_reclass_list))\n",
    "\n",
    "# Define output path for the reclassified EVI raster\n",
    "evi_reclass_path = os.path.join(arcpy.env.workspace, \"evi_masked_reclass\")\n",
    "evi_reclass.save(evi_reclass_path)\n",
    "\n",
    "print(f\"EVI reclassification complete. Output saved as {evi_reclass_path}\")"
   ]
  },
  {
   "cell_type": "markdown",
   "metadata": {},
   "source": [
    "### Average NDVI & EVI"
   ]
  },
  {
   "cell_type": "code",
   "execution_count": null,
   "metadata": {},
   "outputs": [],
   "source": [
    "ndvi = Raster(r\"D:\\Dropbox\\COGS\\Capstone\\gis\\capstone.gdb\\ndvi_final\")\n",
    "evi = Raster(r\"D:\\Dropbox\\COGS\\Capstone\\gis\\capstone.gdb\\evi_final3\")\n",
    "\n",
    "# Average NDVI and EVI\n",
    "fuel_index = (ndvi + evi) / 2\n",
    "\n",
    "# Save the combined fuel raster\n",
    "fuel_index.save(r\"D:\\Dropbox\\COGS\\Capstone\\gis\\capstone.gdb\\fuel_index\")"
   ]
  }
 ],
 "metadata": {
  "kernelspec": {
   "display_name": "ArcGISPro",
   "language": "Python",
   "name": "python3"
  },
  "language_info": {
   "file_extension": ".py",
   "name": "python",
   "version": "3"
  }
 },
 "nbformat": 4,
 "nbformat_minor": 2
}

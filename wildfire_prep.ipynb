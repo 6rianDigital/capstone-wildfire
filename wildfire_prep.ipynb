{
 "cells": [
  {
   "cell_type": "markdown",
   "metadata": {},
   "source": [
    "# Wildfire Hazard: Data Retrieval/Prep 1 - Area Boundary, Imagery & DEM"
   ]
  },
  {
   "cell_type": "markdown",
   "metadata": {},
   "source": [
    "Program: wildfire_prep.ipynb  \n",
    "Programmer: Brian Gauthier  \n",
    "Purpose: This notebook retrieves and prepares data for wildfire hazard analysis  \n",
    "Date: May 2, 2025"
   ]
  },
  {
   "cell_type": "markdown",
   "metadata": {},
   "source": [
    "### Import Python Modules"
   ]
  },
  {
   "cell_type": "code",
   "execution_count": 1,
   "metadata": {},
   "outputs": [],
   "source": [
    "import arcpy\n",
    "import ee\n",
    "import geemap\n",
    "import json\n",
    "import os\n",
    "import requests\n",
    "import tqdm\n",
    "import zipfile"
   ]
  },
  {
   "cell_type": "markdown",
   "metadata": {},
   "source": [
    "### Authenticate and Initialize Google Earth Engine and Geemap"
   ]
  },
  {
   "cell_type": "code",
   "execution_count": 2,
   "metadata": {},
   "outputs": [],
   "source": [
    "#ee.Authenticate()\n",
    "ee.Initialize(project='your-earthengine-project-name')\n",
    "geemap.ee_initialize()"
   ]
  },
  {
   "cell_type": "markdown",
   "metadata": {},
   "source": [
    "### Set Paths"
   ]
  },
  {
   "cell_type": "code",
   "execution_count": 3,
   "metadata": {},
   "outputs": [],
   "source": [
    "# Get project directory\n",
    "aprx = arcpy.mp.ArcGISProject(\"CURRENT\")\n",
    "gis_dir = os.path.dirname(aprx.filePath)\n",
    "project_dir = os.path.dirname(gis_dir)\n",
    "\n",
    "# Data Directory structure\n",
    "raw_dir = os.path.join(project_dir, \"data\", \"raw\")\n",
    "extract_dir = os.path.join(project_dir, \"data\", \"extracted\")\n",
    "proc_dir = os.path.join(project_dir, \"data\", \"processed\")\n",
    "\n",
    "# Create folders if they don't exist\n",
    "os.makedirs(raw_dir, exist_ok=True)\n",
    "os.makedirs(extract_dir, exist_ok=True)\n",
    "os.makedirs(proc_dir, exist_ok=True)"
   ]
  },
  {
   "cell_type": "markdown",
   "metadata": {},
   "source": [
    "### Setup Map"
   ]
  },
  {
   "cell_type": "code",
   "execution_count": 4,
   "metadata": {},
   "outputs": [],
   "source": [
    "map = geemap.Map()\n",
    "map.setCenter(-63.106018, 44.871443, 7)"
   ]
  },
  {
   "cell_type": "markdown",
   "metadata": {},
   "source": [
    "### Load Administrative Boundaries Dataset"
   ]
  },
  {
   "cell_type": "code",
   "execution_count": 5,
   "metadata": {},
   "outputs": [],
   "source": [
    "dataset = ee.FeatureCollection(\"FAO/GAUL/2015/level2\")"
   ]
  },
  {
   "cell_type": "markdown",
   "metadata": {},
   "source": [
    "### Investigate the Dataset"
   ]
  },
  {
   "cell_type": "code",
   "execution_count": null,
   "metadata": {},
   "outputs": [],
   "source": [
    "# Get the first feature in the dataset\n",
    "first_feature = dataset.first()\n",
    "\n",
    "# Get the properties (field names)\n",
    "field_names = first_feature.propertyNames().getInfo()\n",
    "print(field_names)"
   ]
  },
  {
   "cell_type": "code",
   "execution_count": null,
   "metadata": {},
   "outputs": [],
   "source": [
    "# Get a list of unique Province level values (ADM1 in this case)\n",
    "adm1_names = dataset.aggregate_array('ADM1_NAME').getInfo()\n",
    "print(set(adm1_names))  # Convert to set to remove duplicates"
   ]
  },
  {
   "cell_type": "code",
   "execution_count": null,
   "metadata": {},
   "outputs": [],
   "source": [
    "# Get a list of unique County level values (ADM2_NAME in this case)\n",
    "adm2_names = dataset.aggregate_array('ADM2_NAME').getInfo()\n",
    "print(set(adm2_names))  # Convert to set to remove duplicates"
   ]
  },
  {
   "cell_type": "markdown",
   "metadata": {},
   "source": [
    "### Filter for Area of Inteterest (HRM)"
   ]
  },
  {
   "cell_type": "code",
   "execution_count": 6,
   "metadata": {},
   "outputs": [
    {
     "name": "stdout",
     "output_type": "stream",
     "text": [
      "18\n"
     ]
    }
   ],
   "source": [
    "# Filter for Nova Scotia\n",
    "ns = dataset.filter(ee.Filter.eq('ADM1_NAME', 'Nova Scotia / Nouvelle-Écosse'))\n",
    "\n",
    "print(ns.size().getInfo())"
   ]
  },
  {
   "cell_type": "code",
   "execution_count": 7,
   "metadata": {},
   "outputs": [
    {
     "name": "stdout",
     "output_type": "stream",
     "text": [
      "1\n"
     ]
    }
   ],
   "source": [
    "# Filter for Halifax, Nova Scotia\n",
    "hali = ns.filter(\n",
    "    ee.Filter.eq('ADM2_NAME', 'Halifax')\n",
    ")\n",
    "\n",
    "# Check the size of the filtered collection\n",
    "print(hali.size().getInfo())"
   ]
  },
  {
   "cell_type": "code",
   "execution_count": 12,
   "metadata": {
    "scrolled": true
   },
   "outputs": [],
   "source": [
    "# Add layer to map\n",
    "#map.addLayer(hali.geometry(), {'color': 'red'}, \"HRM Boundary\")\n",
    "# Assume hali is an ee.Feature or ee.FeatureCollection\n",
    "# If it's a FeatureCollection:\n",
    "styled = hali.style(**{\n",
    "    'color': 'black',        # outline color\n",
    "    'fillColor': '00000000'  # fully transparent fill using 8-digit hex (last two are alpha)\n",
    "})\n",
    "\n",
    "map.addLayer(styled, {}, \"HRM Boundary\")\n"
   ]
  },
  {
   "cell_type": "markdown",
   "metadata": {},
   "source": [
    "### Remove non-contiguous entities (Sable Island)"
   ]
  },
  {
   "cell_type": "code",
   "execution_count": null,
   "metadata": {
    "scrolled": false
   },
   "outputs": [],
   "source": [
    "# Define Sable Island's approximate boundary as a buffer around its coordinates\n",
    "sable_island = ee.Geometry.Point([-59.9061, 43.9336]).buffer(100000)  # 100km buffer\n",
    "\n",
    "# Get the geometry of Halifax\n",
    "hali_geom = hali.geometry()\n",
    "\n",
    "# Subtract Sable Island from Halifax's geometry\n",
    "hali_fixed_geom = hali_geom.difference(sable_island)\n",
    "\n",
    "# Convert back to a FeatureCollection\n",
    "hali_fixed = ee.FeatureCollection(ee.Feature(hali_fixed_geom))"
   ]
  },
  {
   "cell_type": "code",
   "execution_count": null,
   "metadata": {},
   "outputs": [],
   "source": [
    "# Add to the map\n",
    "map.addLayer(hali_fixed, {'color': 'blue'}, \"HRM (Without Sable Island)\")"
   ]
  },
  {
   "cell_type": "markdown",
   "metadata": {},
   "source": [
    "### Split the HRM into 4 equal sections based on longitude"
   ]
  },
  {
   "cell_type": "code",
   "execution_count": null,
   "metadata": {},
   "outputs": [],
   "source": [
    "# Get the bounds of the hali_fixed area\n",
    "hali_bounds = hali_fixed.bounds()\n",
    "\n",
    "# Print the bounds (coordinates of the bounding box)\n",
    "bounds = hali_bounds.getInfo()\n",
    "print(\"Bounds of hali_fixed:\", bounds)\n",
    "\n",
    "# Coordinates of the bounding box\n",
    "coordinates = bounds['coordinates'][0]\n",
    "\n",
    "# Extract all the longitudes and latitudes\n",
    "longitudes = [coord[0] for coord in coordinates]\n",
    "latitudes = [coord[1] for coord in coordinates]\n",
    "\n",
    "# Calculate the minimum and maximum longitudes and latitudes\n",
    "min_long = min(longitudes)\n",
    "max_long = max(longitudes)\n",
    "min_lat = min(latitudes)\n",
    "max_lat = max(latitudes)\n",
    "\n",
    "# Calculate the step size for splitting the longitude range into four equal sections\n",
    "step = (max_long - min_long) / 4\n",
    "\n",
    "# Define the three split longitudes (boundaries) to create four equal sections\n",
    "split_longitude_1 = min_long + step\n",
    "split_longitude_2 = min_long + 2 * step\n",
    "split_longitude_3 = min_long + 3 * step\n",
    "\n",
    "# Print the split longitudes\n",
    "print(\"Split Longitudes:\", split_longitude_1, split_longitude_2, split_longitude_3)\n",
    "\n",
    "# Define the four new polygons by cutting the original polygon at the three split longitudes\n",
    "# West region (1st section)\n",
    "west_region = ee.Geometry.Polygon([\n",
    "    [\n",
    "        [min_long, min_lat],                # Southwest corner\n",
    "        [split_longitude_1, min_lat],       # Southeast corner\n",
    "        [split_longitude_1, max_lat],       # Northeast corner\n",
    "        [min_long, max_lat],                # Northwest corner\n",
    "        [min_long, min_lat]                 # Closing back to Southwest corner\n",
    "    ]\n",
    "])\n",
    "\n",
    "# Centre-West region (2nd section)\n",
    "centre_west_region = ee.Geometry.Polygon([\n",
    "    [\n",
    "        [split_longitude_1, min_lat],       # Southwest corner\n",
    "        [split_longitude_2, min_lat],       # Southeast corner\n",
    "        [split_longitude_2, max_lat],       # Northeast corner\n",
    "        [split_longitude_1, max_lat],       # Northwest corner\n",
    "        [split_longitude_1, min_lat]        # Closing back to Southwest corner\n",
    "    ]\n",
    "])\n",
    "\n",
    "# Centre-East region (3rd section)\n",
    "centre_east_region = ee.Geometry.Polygon([\n",
    "    [\n",
    "        [split_longitude_2, min_lat],       # Southwest corner\n",
    "        [split_longitude_3, min_lat],       # Southeast corner\n",
    "        [split_longitude_3, max_lat],       # Northeast corner\n",
    "        [split_longitude_2, max_lat],       # Northwest corner\n",
    "        [split_longitude_2, min_lat]        # Closing back to Southwest corner\n",
    "    ]\n",
    "])\n",
    "\n",
    "# East region (4th section)\n",
    "east_region = ee.Geometry.Polygon([\n",
    "    [\n",
    "        [split_longitude_3, min_lat],       # Southwest corner\n",
    "        [max_long, min_lat],                # Southeast corner\n",
    "        [max_long, max_lat],                # Northeast corner\n",
    "        [split_longitude_3, max_lat],       # Northwest corner\n",
    "        [split_longitude_3, min_lat]        # Closing back to Southwest corner\n",
    "    ]\n",
    "])"
   ]
  },
  {
   "cell_type": "code",
   "execution_count": null,
   "metadata": {},
   "outputs": [],
   "source": [
    "# Add the four regions to the map with new names\n",
    "map.addLayer(west_region, {'color': 'blue'}, 'West Region')\n",
    "map.addLayer(centre_west_region, {'color': 'red'}, 'Centre-West Region')\n",
    "map.addLayer(centre_east_region, {'color': 'green'}, 'Centre-East Region')\n",
    "map.addLayer(east_region, {'color': 'yellow'}, 'East Region')"
   ]
  },
  {
   "cell_type": "code",
   "execution_count": null,
   "metadata": {},
   "outputs": [],
   "source": [
    "# Clip the regions by intersecting them with the HRM boundary\n",
    "west_clip = west_region.intersection(hali_fixed)\n",
    "centre_west_clip = centre_west_region.intersection(hali_fixed)\n",
    "centre_east_clip = centre_east_region.intersection(hali_fixed)\n",
    "east_clip = east_region.intersection(hali_fixed)"
   ]
  },
  {
   "cell_type": "code",
   "execution_count": null,
   "metadata": {},
   "outputs": [],
   "source": [
    "# Add the clipped regions to the map\n",
    "map.addLayer(west_clip, {'color': 'blue'}, 'West Clipped')\n",
    "map.addLayer(centre_west_clip, {'color': 'red'}, 'Centre-West Clipped')\n",
    "map.addLayer(centre_east_clip, {'color': 'green'}, 'Centre-East Clipped')\n",
    "map.addLayer(east_clip, {'color': 'yellow'}, 'East Clipped')"
   ]
  },
  {
   "cell_type": "markdown",
   "metadata": {},
   "source": [
    "### Pull, Filter, Clip & Export Sentinel-2 Satellite Imagery"
   ]
  },
  {
   "cell_type": "code",
   "execution_count": null,
   "metadata": {
    "scrolled": false
   },
   "outputs": [],
   "source": [
    "# load Sentinel-2 image collection\n",
    "s2 = ee.ImageCollection('COPERNICUS/S2') \\\n",
    "    .filterBounds(centre_west_clip) \\\n",
    "    .filterDate('2024-06-01', '2024-10-31')\n",
    "\n",
    "# Load cloud probability dataset\n",
    "clouds = ee.ImageCollection('COPERNICUS/S2_CLOUD_PROBABILITY') \\\n",
    "    .filterBounds(centre_west_clip) \\\n",
    "    .filterDate('2024-06-01', '2024-10-31')\n",
    "\n",
    "# Function to mask clouds based on cloud probability (< 30%)\n",
    "def mask_clouds(image):\n",
    "    cloud_prob = clouds.filter(ee.Filter.equals('system:index', image.get('system:index'))).first().select('probability')\n",
    "    mask = cloud_prob.lt(30)  # Keep pixels with less than 30% cloud probability\n",
    "    return image.updateMask(mask)\n",
    "\n",
    "# Apply the loud mask to the collection\n",
    "s2_clean = s2.map(mask_clouds)\n",
    "\n",
    "# Reduce collection to a single image\n",
    "s2_filtered = s2_clean.median()\n",
    "\n",
    "# Clip the image to centre_west_clip\n",
    "s2_clipped = s2_filtered.clip(centre_west_clip)\n",
    "\n",
    "# Visualization parameters for RGB (Red, Green, Blue)\n",
    "vis_params = {\n",
    "    'min': 0,\n",
    "    'max': 3000,\n",
    "    'bands': ['B4', 'B3', 'B2']  # Red, Green, Blue bands\n",
    "}"
   ]
  },
  {
   "cell_type": "code",
   "execution_count": null,
   "metadata": {},
   "outputs": [],
   "source": [
    "# Add the image to the map\n",
    "map.addLayer(s2_clipped, vis_params, 'CW Sentinel-2 Image (Clipped)')"
   ]
  },
  {
   "cell_type": "code",
   "execution_count": null,
   "metadata": {},
   "outputs": [],
   "source": [
    "# Export the clipped image to Google Drive using this geometry\n",
    "task = ee.batch.Export.image.toDrive(\n",
    "    image=s2_clipped,\n",
    "    description='Sentinel_2_Clipped',\n",
    "    folder='EarthEngineExports',  # Folder in Google Drive\n",
    "    fileNamePrefix='sentinel_2_clipped',\n",
    "    region=centre_west_clip,\n",
    "    scale=10,\n",
    "    fileFormat='GeoTIFF'\n",
    ")\n",
    "\n",
    "# Start the export task\n",
    "task.start()\n",
    "print(task.status())"
   ]
  },
  {
   "cell_type": "markdown",
   "metadata": {},
   "source": [
    "### Mosaic the exported sentinel-2 imagery (tif) files back together"
   ]
  },
  {
   "cell_type": "code",
   "execution_count": null,
   "metadata": {},
   "outputs": [],
   "source": [
    "# Define input and output paths\n",
    "s2_dir = r\"D:\\Dropbox\\COGS\\Capstone\\data\\processed\\EE_Exports\"\n",
    "s2_mosaic_dir = os.path.dirname(s2_dir)\n",
    "s2_mosaic_fn = \"sentinel_2_mosaic.tif\"\n",
    "s2_mosaic_path = os.path.join(s2_mosaic_dir, s2_mosaic_fn)\n",
    "\n",
    "# Collect all .tif files in the input folder\n",
    "tif_files = [\n",
    "    os.path.join(s2_dir, f)\n",
    "    for f in os.listdir(s2_dir)\n",
    "    if f.endswith(\".tif\")\n",
    "]\n",
    "\n",
    "# Iterate through TIF files and check the number of bands\n",
    "for tif in tif_files:\n",
    "    raster = arcpy.Raster(tif)\n",
    "    print(f\"{tif} has {raster.bandCount} bands\")\n",
    "\n",
    "# Mosaic to new raster\n",
    "arcpy.management.MosaicToNewRaster(\n",
    "    input_rasters=tif_files,\n",
    "    output_location=s2_mosaic_dir,\n",
    "    raster_dataset_name_with_extension=s2_mosaic_fn,\n",
    "    coordinate_system_for_the_raster=arcpy.SpatialReference(4326),\n",
    "    pixel_type=\"32_BIT_FLOAT\",\n",
    "    number_of_bands=16,\n",
    "    mosaic_method=\"FIRST\",\n",
    "    mosaic_colormap_mode=\"MATCH\"\n",
    ")\n",
    "\n",
    "print(f\"Mosaic created at: {s2_mosaic_path}\")"
   ]
  },
  {
   "cell_type": "markdown",
   "metadata": {},
   "source": [
    "### Retrieve LiDAR DEM"
   ]
  },
  {
   "cell_type": "code",
   "execution_count": null,
   "metadata": {},
   "outputs": [],
   "source": [
    "# Define the URL for DEM and file name/path for downloading\n",
    "dem_url = \"https://www.halifax.ca/opendata/files/HRM_LiDAR_DEM/HRM_LiDAR_DEM_2018_2m_wgs84.zip\"\n",
    "dem_zip_path = os.path.join(raw_dir, os.path.basename(dem_url))"
   ]
  },
  {
   "cell_type": "code",
   "execution_count": null,
   "metadata": {},
   "outputs": [],
   "source": [
    "# Make request with streaming\n",
    "response = requests.get(dem_url, stream=True)\n",
    "total_size = int(response.headers.get('content-length', 0))\n",
    "\n",
    "# Download with progress bar\n",
    "if response.status_code == 200:\n",
    "    with open(dem_zip_path, 'wb') as f, tqdm.tqdm(\n",
    "        desc=\"Downloading\",\n",
    "        total=total_size,\n",
    "        unit='B',\n",
    "        unit_scale=True,\n",
    "        unit_divisor=1024,\n",
    "    ) as bar:\n",
    "        for chunk in response.iter_content(chunk_size=8192):\n",
    "            if chunk:\n",
    "                f.write(chunk)\n",
    "                bar.update(len(chunk))\n",
    "    print(\"Download complete.\")\n",
    "else:\n",
    "    print(\"Download failed with status code:\", response.status_code)"
   ]
  },
  {
   "cell_type": "code",
   "execution_count": null,
   "metadata": {},
   "outputs": [],
   "source": [
    "# Extract the ZIP file\n",
    "try:\n",
    "    with zipfile.ZipFile(dem_zip_path, 'r') as zip_ref:\n",
    "        zip_ref.extractall(extract_dir)\n",
    "    print(f\"Extraction complete. Files extracted to {extract_dir}\")\n",
    "except zipfile.BadZipFile:\n",
    "    print(\"Error: The file is not a valid zip file.\")\n",
    "except Exception as e:\n",
    "    print(f\"An error occurred during extraction: {str(e)}\")"
   ]
  },
  {
   "cell_type": "markdown",
   "metadata": {},
   "source": [
    "### Export EE Geometry to Shapefile"
   ]
  },
  {
   "cell_type": "code",
   "execution_count": null,
   "metadata": {},
   "outputs": [],
   "source": [
    "# Define Earth Engine FeatureCollection & shapefile path\n",
    "centre_west_fc = ee.FeatureCollection(ee.Feature(centre_west_clip))\n",
    "centre_west_shp_path = os.path.join(proc_dir, \"centre_west.shp\")"
   ]
  },
  {
   "cell_type": "code",
   "execution_count": null,
   "metadata": {},
   "outputs": [],
   "source": [
    "# Export the FeatureCollection to a shapefile (geemap is key here to keep things local)\n",
    "geemap.ee_to_shp(centre_west_fc, centre_west_shp_path)\n",
    "\n",
    "# Confirm shapefile creation\n",
    "print(f\"Shapefile created at: {centre_west_shp_path}\")"
   ]
  },
  {
   "cell_type": "markdown",
   "metadata": {},
   "source": [
    "## Transform & Project Layers to NAD83 CSRS UTM Zone 20N, Clip to Study Area"
   ]
  },
  {
   "cell_type": "code",
   "execution_count": null,
   "metadata": {},
   "outputs": [],
   "source": [
    "# Set ArcPy Workspace & overwrite options\n",
    "arcpy.env.workspace = proc_dir\n",
    "arcpy.env.overwriteOutput = True"
   ]
  },
  {
   "cell_type": "code",
   "execution_count": null,
   "metadata": {},
   "outputs": [],
   "source": [
    "# Set input/output paths\n",
    "centre_west_shp_utm_path = os.path.join(proc_dir, \"centre_west_clip_utm.shp\")\n",
    "dem_path = os.path.join(extract_dir, \"HRM_LiDAR_DEM_2018_2m_wgs84.tif\")\n",
    "dem_utm_path = os.path.join(proc_dir, \"dem_centre_west_utm.tif\")\n",
    "dem_utm_clipped_path = os.path.join(proc_dir, \"dem_centre_west_utm_clipped.tif\")\n",
    "s2_mosaic_utm_path = os.path.join(proc_dir, \"sentinel_2_mosaic_utm.tif\")\n",
    "s2_mosaic_utm_clipped_path = os.path.join(proc_dir, \"sentinel_2_mosaic_utm_clipped.tif\")"
   ]
  },
  {
   "cell_type": "markdown",
   "metadata": {},
   "source": [
    "### Centre West Shapefile"
   ]
  },
  {
   "cell_type": "code",
   "execution_count": null,
   "metadata": {
    "scrolled": true
   },
   "outputs": [],
   "source": [
    "# Check centre west shapefile crs before projecting\n",
    "desc_centre_west_shp = arcpy.Describe(centre_west_shp_path)\n",
    "print(desc_centre_west_shp.spatialReference.name)"
   ]
  },
  {
   "cell_type": "code",
   "execution_count": null,
   "metadata": {},
   "outputs": [],
   "source": [
    "# Determine available geodetic transformations from WGS 1984 to NAD83 (CSRS)\n",
    "# EPSG:4326 = WGS 1984\n",
    "# EPSG:4617 = NAD83(CSRS)\n",
    "\n",
    "arcpy.ListTransformations(\n",
    "    arcpy.SpatialReference(4326),\n",
    "    arcpy.SpatialReference(4617)\n",
    ")\n"
   ]
  },
  {
   "cell_type": "code",
   "execution_count": null,
   "metadata": {},
   "outputs": [],
   "source": [
    "# Transform and project centre_west_shapefile (HRM Boundary Subset) to NAD83 CSRS UTM Zone 20N\n",
    "arcpy.management.Project(\n",
    "    in_dataset=centre_west_shp_path,\n",
    "    out_dataset=centre_west_shp_utm_path,\n",
    "    out_coor_system=arcpy.SpatialReference(2961),\n",
    "    transform_method=\"WGS_1984_(ITRF00)_To_NAD_1983 + NAD_1983_To_NAD_1983_CSRS_4\"\n",
    ")\n"
   ]
  },
  {
   "cell_type": "markdown",
   "metadata": {},
   "source": [
    "### DEM"
   ]
  },
  {
   "cell_type": "code",
   "execution_count": null,
   "metadata": {},
   "outputs": [],
   "source": [
    "# Check DEM crs before projecting\n",
    "desc_dem = arcpy.Describe(dem_path)\n",
    "print(desc_dem.spatialReference.name)"
   ]
  },
  {
   "cell_type": "code",
   "execution_count": null,
   "metadata": {},
   "outputs": [],
   "source": [
    "# Project DEM to NAD83 CSRS UTM Zone 20N\n",
    "arcpy.management.ProjectRaster(\n",
    "    in_raster=dem_path,\n",
    "    out_raster=dem_utm_path,\n",
    "    out_coor_system=arcpy.SpatialReference(2961),\n",
    "    resampling_type=\"BILINEAR\",\n",
    "    cell_size=\"2\",\n",
    ")"
   ]
  },
  {
   "cell_type": "code",
   "execution_count": null,
   "metadata": {},
   "outputs": [],
   "source": [
    "# Clip reprojected DEM using the reprojected shapefile\n",
    "arcpy.management.Clip(\n",
    "    in_raster=dem_utm_path,\n",
    "    out_raster=dem_utm_clipped_path,\n",
    "    in_template_dataset=centre_west_shp_utm_path,\n",
    "    clipping_geometry=\"ClippingGeometry\",\n",
    "    maintain_clipping_extent=\"MAINTAIN_EXTENT\"\n",
    ")"
   ]
  },
  {
   "cell_type": "markdown",
   "metadata": {},
   "source": [
    "### Sentinel-2 Mosaic"
   ]
  },
  {
   "cell_type": "code",
   "execution_count": null,
   "metadata": {},
   "outputs": [],
   "source": [
    "# Check mosaic crs before projecting\n",
    "desc_mosaic = arcpy.Describe(s2_mosaic_path)\n",
    "print(desc_mosaic.spatialReference.name)"
   ]
  },
  {
   "cell_type": "code",
   "execution_count": null,
   "metadata": {},
   "outputs": [],
   "source": [
    "# Define the projection to WGS 1984 (EPSG:4326)\n",
    "arcpy.management.DefineProjection(s2_mosaic_path, arcpy.SpatialReference(4326))"
   ]
  },
  {
   "cell_type": "code",
   "execution_count": null,
   "metadata": {},
   "outputs": [],
   "source": [
    "# Reproject the raster to NAD83 CSRS UTM Zone 20N (EPSG:2961)\n",
    "arcpy.management.ProjectRaster(\n",
    "    in_raster=s2_mosaic_path,\n",
    "    out_raster=s2_mosaic_utm_path,\n",
    "    out_coor_system=arcpy.SpatialReference(2961), \n",
    "    resampling_type=\"BILINEAR\", \n",
    ")"
   ]
  },
  {
   "cell_type": "code",
   "execution_count": null,
   "metadata": {},
   "outputs": [],
   "source": [
    "# Clip sentinel-2 mosaic using the reprojected shapefile\n",
    "arcpy.management.Clip(\n",
    "    in_raster=s2_mosaic_utm_path,\n",
    "    out_raster=s2_mosaic_utm_clipped_path,\n",
    "    in_template_dataset=centre_west_shp_utm_path,\n",
    "    clipping_geometry=\"ClippingGeometry\",\n",
    "    maintain_clipping_extent=\"MAINTAIN_EXTENT\"\n",
    ")"
   ]
  }
 ],
 "metadata": {
  "kernelspec": {
   "display_name": "ArcGISPro",
   "language": "Python",
   "name": "python3"
  },
  "language_info": {
   "file_extension": ".py",
   "name": "python",
   "version": "3"
  }
 },
 "nbformat": 4,
 "nbformat_minor": 2
}

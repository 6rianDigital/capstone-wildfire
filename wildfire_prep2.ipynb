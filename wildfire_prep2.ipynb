{
 "cells": [
  {
   "cell_type": "markdown",
   "metadata": {},
   "source": [
    "# Wildfire Hazard: Data Retrieval/Prep 2 - Vector Layers (roads, streams, etc)"
   ]
  },
  {
   "cell_type": "markdown",
   "metadata": {},
   "source": [
    "Program: wildfire_prep2.ipynb  \n",
    "Programmer: Brian Gauthier  \n",
    "Purpose: This notebook retrieves and prepares data for wildfire hazard analysis  \n",
    "Date: May 9, 2025"
   ]
  },
  {
   "cell_type": "code",
   "execution_count": null,
   "metadata": {},
   "outputs": [],
   "source": [
    "import arcpy\n",
    "import os\n",
    "import requests\n",
    "import zipfile\n",
    "\n",
    "# Get project directory\n",
    "aprx = arcpy.mp.ArcGISProject(\"CURRENT\")\n",
    "gis_dir = os.path.dirname(aprx.filePath)\n",
    "project_dir = os.path.dirname(gis_dir)\n",
    "\n",
    "# Data Directory structure\n",
    "raw_dir = os.path.join(project_dir, \"data\", \"raw\")\n",
    "extract_dir = os.path.join(project_dir, \"data\", \"extracted\")\n",
    "proc_dir = os.path.join(project_dir, \"data\", \"processed\")\n",
    "\n",
    "# Create folders if they don't exist\n",
    "os.makedirs(raw_dir, exist_ok=True)\n",
    "os.makedirs(extract_dir, exist_ok=True)\n",
    "os.makedirs(proc_dir, exist_ok=True)\n",
    "\n",
    "# Set ArcPy Workspace & overwrite options\n",
    "arcpy.env.workspace = raw_dir\n",
    "arcpy.env.overwriteOutput = True\n",
    "\n",
    "# Define download url input and filename output (for roads, hydro, utilities, and buildings)\n",
    "urls = [\n",
    "    (\"https://nsgi.novascotia.ca/WSF_DDS/DDS.svc/DownloadFile?tkey=kNNpTdP4QuNRSYtt&id=113129\", \"roads.zip\"),\n",
    "    (\"https://nsgi.novascotia.ca/WSF_DDS/DDS.svc/DownloadFile?tkey=kNNpTdP4QuNRSYtt&id=38905\", \"hydro.zip\"),\n",
    "    (\"https://nsgi.novascotia.ca/WSF_DDS/DDS.svc/DownloadFile?tkey=kNNpTdP4QuNRSYtt&id=36775\", \"utilities.zip\"),\n",
    "    (\"https://nsgi.novascotia.ca/WSF_DDS/DDS.svc/DownloadFile?tkey=kNNpTdP4QuNRSYtt&id=36733\", \"buildings.zip\")\n",
    "]\n",
    "\n",
    "# Download and extract the files\n",
    "def dl_file(url, path):\n",
    "    try:\n",
    "        # Send a GET request to the URL\n",
    "        response = requests.get(url, stream=True)\n",
    "        \n",
    "        # Check if request was successful\n",
    "        if response.status_code == 200:\n",
    "            with open(path, 'wb') as file:\n",
    "                for chunk in response.iter_content(chunk_size=8192): \n",
    "                    file.write(chunk)\n",
    "            print(f\"Downloaded: {path}\")\n",
    "        else:\n",
    "            print(f\"Failed to download {url}, status code: {response.status_code}\")\n",
    "    except Exception as e:\n",
    "        print(f\"Error downloading {url}: {e}\")\n",
    "\n",
    "def extract_zip(zip_path, extract_folder):\n",
    "    os.makedirs(extract_folder, exist_ok=True)\n",
    "    with zipfile.ZipFile(zip_path, 'r') as zip_ref:\n",
    "        zip_ref.extractall(extract_folder)\n",
    "        print(f\"Extracted to {extract_folder}\")\n",
    "\n",
    "# Loop through URLs and process\n",
    "for url, filename in urls:\n",
    "    file_path = os.path.join(raw_dir, filename)\n",
    "    dl_file(url, file_path)\n",
    "    extract_folder = os.path.join(extract_dir, os.path.splitext(filename)[0])\n",
    "    extract_zip(file_path, extract_folder)"
   ]
  }
 ],
 "metadata": {
  "kernelspec": {
   "display_name": "ArcGISPro",
   "language": "Python",
   "name": "python3"
  },
  "language_info": {
   "file_extension": ".py",
   "name": "python",
   "version": "3"
  }
 },
 "nbformat": 4,
 "nbformat_minor": 2
}

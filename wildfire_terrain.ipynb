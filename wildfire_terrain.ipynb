{
 "cells": [
  {
   "cell_type": "markdown",
   "metadata": {},
   "source": [
    "# GISY6400 Capstone - Wildfire Hazard: Terrain Mapping"
   ]
  },
  {
   "cell_type": "markdown",
   "metadata": {},
   "source": [
    "Program: wildfire_terrain.ipynb  \n",
    "Programmer: Brian Gauthier  \n",
    "Purpose: This notebook produces terrain products for wildfire hazard mapping (hillshade, slope, aspect, elevation)  \n",
    "Date: May 4, 2025"
   ]
  },
  {
   "cell_type": "markdown",
   "metadata": {},
   "source": [
    "### Import python modules"
   ]
  },
  {
   "cell_type": "code",
   "execution_count": 1,
   "metadata": {},
   "outputs": [],
   "source": [
    "import arcpy\n",
    "from arcpy.sa import *\n",
    "import os"
   ]
  },
  {
   "cell_type": "markdown",
   "metadata": {},
   "source": [
    "### Paths & Workspace Setup"
   ]
  },
  {
   "cell_type": "code",
   "execution_count": 2,
   "metadata": {},
   "outputs": [],
   "source": [
    "# Get project directory\n",
    "aprx = arcpy.mp.ArcGISProject(\"CURRENT\")\n",
    "gis_dir = os.path.dirname(aprx.filePath)\n",
    "project_dir = os.path.dirname(gis_dir)\n",
    "\n",
    "# Directory structure\n",
    "raw_dir = os.path.join(project_dir, \"data\", \"raw\")\n",
    "extract_dir = os.path.join(project_dir, \"data\", \"extracted\")\n",
    "proc_dir = os.path.join(project_dir, \"data\", \"processed\")\n",
    "land_mask_path = os.path.join(project_dir, \"gis\", \"capstone.gdb\", \"hydro_la_poly\")\n",
    " \n",
    "# Create folders if they don't exist\n",
    "os.makedirs(raw_dir, exist_ok=True)\n",
    "os.makedirs(extract_dir, exist_ok=True)\n",
    "os.makedirs(proc_dir, exist_ok=True)"
   ]
  },
  {
   "cell_type": "code",
   "execution_count": 3,
   "metadata": {},
   "outputs": [
    {
     "data": {
      "text/plain": [
       "'CheckedOut'"
      ]
     },
     "execution_count": 3,
     "metadata": {},
     "output_type": "execute_result"
    }
   ],
   "source": [
    "# Set ArcPy Workspace & overwrite options\n",
    "arcpy.env.workspace = os.path.join(project_dir, \"gis\", \"capstone.gdb\")\n",
    "arcpy.env.overwriteOutput = True\n",
    "\n",
    "# Activate Spatial Analyst License\n",
    "arcpy.CheckOutExtension(\"Spatial\")"
   ]
  },
  {
   "cell_type": "code",
   "execution_count": 4,
   "metadata": {},
   "outputs": [],
   "source": [
    "# Define output file paths\n",
    "hillshade_output = os.path.join(proc_dir, \"hillshade.tif\")\n",
    "elev_output = os.path.join(proc_dir, \"elev_hazard_map.tif\")\n",
    "slope_output = os.path.join(proc_dir, \"slope_hazard_map.tif\")\n",
    "aspect_output = os.path.join(proc_dir, \"aspect_hazard_map.tif\")\n",
    "terrain_hazard_output = os.path.join(proc_dir, \"terrain_hazard_map.tif\")\n",
    "\n",
    "# Define input raster & handle no data values\n",
    "dem_utm_clipped_path = os.path.join(proc_dir, \"dem_centre_west_utm_clipped.tif\")\n",
    "input_raster = Raster(dem_utm_clipped_path)\n",
    "input_raster_filtered = SetNull(IsNull(input_raster), input_raster)\n",
    "input_raster_filtered = Raster(input_raster_filtered)"
   ]
  },
  {
   "cell_type": "markdown",
   "metadata": {},
   "source": [
    "### Hillshade"
   ]
  },
  {
   "cell_type": "code",
   "execution_count": null,
   "metadata": {},
   "outputs": [],
   "source": [
    "# Create hillshade layer\n",
    "hillshade = arcpy.sa.Hillshade(\n",
    "    in_raster=dem_utm_clipped_path,\n",
    "    azimuth=315,\n",
    "    altitude=45,\n",
    "    model_shadows=\"SHADOWS\",\n",
    "    z_factor=1\n",
    ")\n",
    "\n",
    "# Save output\n",
    "hillshade.save(hillshade_output)\n",
    "print(f\"Hillshade saved to: {hillshade_output}\")"
   ]
  },
  {
   "cell_type": "markdown",
   "metadata": {},
   "source": [
    "### Elevation"
   ]
  },
  {
   "cell_type": "code",
   "execution_count": null,
   "metadata": {},
   "outputs": [],
   "source": [
    "# Classify elevation thresholds based on wildfire behaviour\n",
    "elev_hazard_map = Con(\n",
    "    (input_raster_filtered < 100), 5, # Very High (up to 100m)\n",
    "    Con(\n",
    "        (input_raster_filtered >= 100) & (input_raster_filtered < 200), 4, # High (100-200m)\n",
    "        Con(\n",
    "            (input_raster_filtered >= 200) & (input_raster_filtered < 300), 3, # Medium (200-300m)\n",
    "            Con(\n",
    "                (input_raster_filtered >= 300) & (input_raster_filtered < 400), 2, # Low (300-400m)\n",
    "                Con(\n",
    "                    input_raster_filtered >= 400, 1 # Very Low (400+m)\n",
    "                )\n",
    "            )\n",
    "        )\n",
    "    )\n",
    ")\n",
    "\n",
    "# Mask elevation hazard map by land area\n",
    "elev_hazard_map_masked = ExtractByMask(elev_hazard_map, land_mask_path)\n",
    "\n",
    "# Save the classified elevation raster\n",
    "elev_hazard_map_masked.save(elev_output)\n",
    "print(f\"Elevation hazard map saved to: {elev_output}\")"
   ]
  },
  {
   "cell_type": "markdown",
   "metadata": {},
   "source": [
    "### Slope"
   ]
  },
  {
   "cell_type": "code",
   "execution_count": null,
   "metadata": {},
   "outputs": [],
   "source": [
    "# Calculate slope in degrees\n",
    "slope_raster = Slope(input_raster_filtered, output_measurement=\"DEGREE\")\n",
    "\n",
    "# Classify slope thresholds based on wildfire behaviour\n",
    "slope_hazard_map = Con(\n",
    "    slope_raster < 5, 1, # Low (<5 Deg)\n",
    "    Con(\n",
    "        (slope_raster >= 5) & (slope_raster < 20), 2, # Moderate (5-20 Deg)\n",
    "        Con(\n",
    "            (slope_raster >= 20) & (slope_raster < 35), 3, # High (20-35 Deg)\n",
    "            Con(\n",
    "                slope_raster >= 35, 4) # Very High (>= 35 Deg)\n",
    "        )\n",
    "    )\n",
    ")\n",
    "\n",
    "# Mask slope hazard map by land area\n",
    "slope_hazard_map_masked = ExtractByMask(slope_hazard_map, land_mask_path)\n",
    "\n",
    "# Save the classified slope raster\n",
    "slope_hazard_map_masked.save(slope_output)\n",
    "print(f\"Slope hazard map saved to: {slope_output}\")"
   ]
  },
  {
   "cell_type": "markdown",
   "metadata": {},
   "source": [
    "### Aspect"
   ]
  },
  {
   "cell_type": "code",
   "execution_count": null,
   "metadata": {},
   "outputs": [],
   "source": [
    "# Compute Aspect from DEM\n",
    "aspect = Aspect(input_raster_filtered)\n",
    "\n",
    "# Classify aspect thresholds based on wildfire behaviour\n",
    "aspect_hazard_map = Con(\n",
    "    (aspect < 45) | (aspect > 315), 1, # Low (North)\n",
    "    Con(\n",
    "        (aspect >= 45) & (aspect < 135), 2, # Medium (East)\n",
    "        Con(\n",
    "            (aspect >= 135) & (aspect <= 225), 4, # Very High (South) \n",
    "            Con(\n",
    "                (aspect > 225) & (aspect <= 315), 3) # High (West)\n",
    "        )\n",
    "    )\n",
    ")\n",
    "\n",
    "# Mask the aspect hazard map by the land area\n",
    "aspect_hazard_map_masked = ExtractByMask(aspect_hazard_map, land_mask_path)\n",
    "\n",
    "# Save the final aspect hazard map\n",
    "aspect_hazard_map_masked.save(aspect_output)\n",
    "print(f\"Aspect hazard map saved to: {aspect_output}\")"
   ]
  },
  {
   "cell_type": "markdown",
   "metadata": {},
   "source": [
    "### Composite Terrain Hazard Map"
   ]
  },
  {
   "cell_type": "code",
   "execution_count": 5,
   "metadata": {},
   "outputs": [
    {
     "name": "stdout",
     "output_type": "stream",
     "text": [
      "5-class terrain wildfire hazard map saved to: D:\\Dropbox\\COGS\\Capstone\\data\\processed\\terrain_hazard_map.tif\n"
     ]
    }
   ],
   "source": [
    "# Load the individual hazard rasters\n",
    "elev_hazard_masked = Raster(elev_output)\n",
    "slope_hazard_masked = Raster(slope_output)\n",
    "aspect_hazard_masked = Raster(aspect_output)\n",
    "\n",
    "# Weighted sum\n",
    "terrain_hazard = (elev_hazard_masked * 0.25) + (slope_hazard_masked * 0.4) + (aspect_hazard_masked * 0.35)\n",
    "\n",
    "# Get min and max values from terrain_hazard\n",
    "min_val = float(arcpy.GetRasterProperties_management(terrain_hazard, \"MINIMUM\").getOutput(0))\n",
    "max_val = float(arcpy.GetRasterProperties_management(terrain_hazard, \"MAXIMUM\").getOutput(0))\n",
    "\n",
    "# Normalize to a 1–5 scale\n",
    "normalized = ((terrain_hazard - min_val) / (max_val - min_val)) * 4 + 1\n",
    "\n",
    "# Classify into 5 categories based on normalized value\n",
    "terrain_hazard_classified = Con(\n",
    "    normalized < 1.5, 1,\n",
    "    Con(normalized < 2.5, 2,\n",
    "    Con(normalized < 3.5, 3,\n",
    "    Con(normalized < 4.5, 4, 5))))\n",
    "\n",
    "\n",
    "# Save the final raster\n",
    "terrain_hazard_classified.save(terrain_hazard_output)\n",
    "print(f\"5-class terrain wildfire hazard map saved to: {terrain_hazard_output}\")"
   ]
  },
  {
   "cell_type": "code",
   "execution_count": null,
   "metadata": {},
   "outputs": [],
   "source": [
    "print(f\"Min: {terrain_hazard_classified.minimum}, Max: {terrain_hazard.maximum}\")\n"
   ]
  }
 ],
 "metadata": {
  "kernelspec": {
   "display_name": "ArcGISPro",
   "language": "Python",
   "name": "python3"
  },
  "language_info": {
   "file_extension": ".py",
   "name": "python",
   "version": "3"
  }
 },
 "nbformat": 4,
 "nbformat_minor": 2
}

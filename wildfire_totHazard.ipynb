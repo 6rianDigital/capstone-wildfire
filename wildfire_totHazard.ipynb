{
 "cells": [
  {
   "cell_type": "markdown",
   "metadata": {},
   "source": [
    "# GISY6400 Capstone - Wildfire Hazard: Seasonal Rasters, Normalized Weighted Sum"
   ]
  },
  {
   "cell_type": "markdown",
   "metadata": {},
   "source": [
    "Program: wildfire_totHazard.ipynb  \n",
    "Programmer: Brian Gauthier  \n",
    "Purpose: This notebook generates seasonal wildfire hazard rasters using fuel, terrain and weather inputs. \n",
    "Date: May 17, 2025"
   ]
  },
  {
   "cell_type": "markdown",
   "metadata": {},
   "source": [
    "### Import Python Modules"
   ]
  },
  {
   "cell_type": "code",
   "execution_count": null,
   "metadata": {},
   "outputs": [],
   "source": [
    "import arcpy\n",
    "from arcpy.sa import *\n",
    "\n",
    "arcpy.CheckOutExtension(\"Spatial\")"
   ]
  },
  {
   "cell_type": "markdown",
   "metadata": {},
   "source": [
    "### Normalize Rasters and Create Weighted Sum by Season"
   ]
  },
  {
   "cell_type": "code",
   "execution_count": null,
   "metadata": {},
   "outputs": [],
   "source": [
    "def normalize_raster(raster):\n",
    "    \"\"\"Normalize raster values to range 1-5\"\"\"\n",
    "    min_val = float(arcpy.GetRasterProperties_management(raster, \"MINIMUM\").getOutput(0))\n",
    "    max_val = float(arcpy.GetRasterProperties_management(raster, \"MAXIMUM\").getOutput(0))\n",
    "    if max_val == min_val:\n",
    "        return raster\n",
    "    normalized = ((raster - min_val) / (max_val - min_val)) * 4 + 1\n",
    "    return normalized\n",
    "\n",
    "def calculate_hazard(fuel_path, terrain_path, weather_path, output_path,\n",
    "                     w_fuel=0.4, w_terrain=0.3, w_weather=0.3):\n",
    "    # Load rasters\n",
    "    fuel_raster = Raster(fuel_path)\n",
    "    terrain_raster = Raster(terrain_path)\n",
    "    weather_raster = Raster(weather_path)\n",
    "\n",
    "    # Normalize fuel (0-4 scale, adjust to 1-5)\n",
    "    fuel_norm = fuel_raster + 1\n",
    "\n",
    "    # Terrain assumed already 1-5, no normalization needed\n",
    "    terrain_norm = terrain_raster\n",
    "\n",
    "    # Normalize weather raster to 1-5\n",
    "    weather_norm = normalize_raster(weather_raster)\n",
    "\n",
    "    # Calculate weighted sum hazard\n",
    "    hazard = (fuel_norm * w_fuel) + (terrain_norm * w_terrain) + (weather_norm * w_weather)\n",
    "\n",
    "    # Save output raster\n",
    "    hazard.save(output_path)\n",
    "    print(f\"Hazard raster saved to: {output_path}\")\n",
    "\n",
    "# Base paths\n",
    "base_gdb = r\"D:\\Dropbox\\COGS\\Capstone\\gis\\capstone.gdb\"\n",
    "fuel_path = f\"{base_gdb}\\\\fuel_final\"\n",
    "terrain_path = f\"{base_gdb}\\\\terrain_final\"\n",
    "\n",
    "# Calculate spring hazard\n",
    "calculate_hazard(\n",
    "    fuel_path=fuel_path,\n",
    "    terrain_path=terrain_path,\n",
    "    weather_path=f\"{base_gdb}\\\\FWHI_spring_mask\",\n",
    "    output_path=f\"{base_gdb}\\\\hazard_spring\"\n",
    ")\n",
    "\n",
    "# Calculate summer hazard\n",
    "calculate_hazard(\n",
    "    fuel_path=fuel_path,\n",
    "    terrain_path=terrain_path,\n",
    "    weather_path=f\"{base_gdb}\\\\FWHI_summer_mask\",\n",
    "    output_path=f\"{base_gdb}\\\\hazard_summer\"\n",
    ")\n",
    "\n",
    "# Calculate fall hazard\n",
    "calculate_hazard(\n",
    "    fuel_path=fuel_path,\n",
    "    terrain_path=terrain_path,\n",
    "    weather_path=f\"{base_gdb}\\\\FWHI_fall_mask\",\n",
    "    output_path=f\"{base_gdb}\\\\hazard_fall\"\n",
    ")"
   ]
  },
  {
   "cell_type": "markdown",
   "metadata": {},
   "source": [
    "### Reclassify Rasters with Equal Interval"
   ]
  },
  {
   "cell_type": "code",
   "execution_count": null,
   "metadata": {},
   "outputs": [],
   "source": [
    "def reclassify_to_4_classes(input_raster_path, output_raster_path):\n",
    "    remap = RemapRange([\n",
    "        [1, 2, 1],\n",
    "        [2, 3, 2],\n",
    "        [3, 4, 3],\n",
    "        [4, 5.01, 4]\n",
    "    ])\n",
    "    raster = Raster(input_raster_path)\n",
    "    reclass_raster = Reclassify(raster, \"Value\", remap, \"NODATA\")\n",
    "    reclass_raster.save(output_raster_path)\n",
    "    print(f\"Reclassified raster saved to: {output_raster_path}\")\n",
    "\n",
    "base_gdb = r\"D:\\Dropbox\\COGS\\Capstone\\gis\\capstone.gdb\"\n",
    "\n",
    "for season in [\"spring\", \"summer\", \"fall\"]:\n",
    "    in_raster = f\"{base_gdb}\\\\hazard_{season}\"\n",
    "    out_raster = f\"{base_gdb}\\\\hazard_{season}_reclass\"\n",
    "    reclassify_to_4_classes(in_raster, out_raster)\n",
    "\n",
    "arcpy.CheckInExtension(\"Spatial\")"
   ]
  }
 ],
 "metadata": {
  "kernelspec": {
   "display_name": "ArcGISPro",
   "language": "Python",
   "name": "python3"
  },
  "language_info": {
   "file_extension": ".py",
   "name": "python",
   "version": "3"
  }
 },
 "nbformat": 4,
 "nbformat_minor": 2
}

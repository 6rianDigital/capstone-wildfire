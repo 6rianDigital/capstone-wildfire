{
 "cells": [
  {
   "cell_type": "markdown",
   "metadata": {},
   "source": [
    "# GISY6400 Capstone - Wildfire Hazard: Weather"
   ]
  },
  {
   "cell_type": "markdown",
   "metadata": {},
   "source": [
    "Program: wildfire_weather.ipynb  \n",
    "Programmer: Brian Gauthier  \n",
    "Purpose: This notebook produces weather products for wildfire hazard mapping based on temperature, wind, humidity and precipitation. \n",
    "Date: May 14, 2025"
   ]
  },
  {
   "cell_type": "markdown",
   "metadata": {},
   "source": [
    "### Import Python Modules"
   ]
  },
  {
   "cell_type": "code",
   "execution_count": null,
   "metadata": {},
   "outputs": [],
   "source": [
    "import ee\n",
    "import geemap"
   ]
  },
  {
   "cell_type": "markdown",
   "metadata": {},
   "source": [
    "### Setup Work Space"
   ]
  },
  {
   "cell_type": "code",
   "execution_count": null,
   "metadata": {},
   "outputs": [],
   "source": [
    "#ee.Authenticate()\n",
    "ee.Initialize(project='your-earthengine-project-name')\n",
    "geemap.ee_initialize()"
   ]
  },
  {
   "cell_type": "code",
   "execution_count": null,
   "metadata": {},
   "outputs": [],
   "source": [
    "Map = geemap.Map()"
   ]
  },
  {
   "cell_type": "markdown",
   "metadata": {},
   "source": [
    "### Define AOI & Seasons"
   ]
  },
  {
   "cell_type": "code",
   "execution_count": null,
   "metadata": {
    "scrolled": false
   },
   "outputs": [],
   "source": [
    "# Load HRM shapefile as Earth Engine FeatureCollection\n",
    "hrm_shape_path = r\"D:\\Dropbox\\COGS\\Capstone\\data\\processed\\centre_west.shp\"\n",
    "hrm_ee_fc = geemap.shp_to_ee(hrm_shape_path)\n",
    "\n",
    "# Get geometry from the ee feature collection (since only geometry is needed for many spatial operations)\n",
    "hrm_aoi = hrm_ee_fc.geometry()\n",
    "\n",
    "# Add AOI to map for visualization\n",
    "Map.addLayer(hrm_aoi, {}, 'HRM_AOI')\n",
    "\n",
    "# Manually centre map on AOI centroid to avoid tuple errors\n",
    "centroid = hrm_aoi.centroid(1).coordinates().getInfo()\n",
    "Map.setCenter(centroid[0], centroid[1], zoom=10)\n",
    "\n",
    "Map"
   ]
  },
  {
   "cell_type": "code",
   "execution_count": null,
   "metadata": {},
   "outputs": [],
   "source": [
    "# Define seasons using dicts\n",
    "seasons = {\n",
    "    'spring': ('2024-04-01', '2024-06-15'),\n",
    "    'summer': ('2024-06-16', '2024-08-31'),\n",
    "    'fall':   ('2024-09-01', '2024-10-31')\n",
    "}"
   ]
  },
  {
   "cell_type": "markdown",
   "metadata": {},
   "source": [
    "### Function to Fetch Weather Layers by Season"
   ]
  },
  {
   "cell_type": "code",
   "execution_count": null,
   "metadata": {},
   "outputs": [],
   "source": [
    "# Function to fetch weather layers per season, including wind speed calculation\n",
    "def get_seasonal_weather(start, end, aoi):\n",
    "    era5 = ee.ImageCollection(\"ECMWF/ERA5/HOURLY\").filterDate(start, end).filterBounds(aoi)\n",
    "    \n",
    "    # Convert temperature bands from Kelvin to Celsius\n",
    "    temp_c = era5.select('temperature_2m').map(lambda img: img.subtract(273.15))\n",
    "    dewpoint_c = era5.select('dewpoint_temperature_2m').map(lambda img: img.subtract(273.15))\n",
    "\n",
    "    # Max temp in Celsius\n",
    "    temp = temp_c.max().clip(aoi).rename('temperature_2m')\n",
    "\n",
    "    # Total precipitation (still in meters)\n",
    "    precip = era5.select('total_precipitation').sum().clip(aoi).rename('total_precipitation')\n",
    "\n",
    "    # Mean u and v components of wind at 10m\n",
    "    u10 = era5.select('u_component_of_wind_10m').mean()\n",
    "    v10 = era5.select('v_component_of_wind_10m').mean()\n",
    "\n",
    "    # Calculate wind speed as hypotenuse of u and v components\n",
    "    wind_speed = u10.hypot(v10).clip(aoi).rename('wind_speed')\n",
    "\n",
    "    # VPD estimate (Temp - Dew Point) in Celsius\n",
    "    t = temp_c.mean()\n",
    "    td = dewpoint_c.mean()\n",
    "    vpd = t.subtract(td).clip(aoi).rename('vpd')\n",
    "\n",
    "    return {\n",
    "        'temp': temp,\n",
    "        'precip': precip,\n",
    "        'wind': wind_speed,\n",
    "        'vpd': vpd\n",
    "    }"
   ]
  },
  {
   "cell_type": "markdown",
   "metadata": {},
   "source": [
    "### Normalize Layers Function"
   ]
  },
  {
   "cell_type": "code",
   "execution_count": null,
   "metadata": {},
   "outputs": [],
   "source": [
    "# Normalize layers 0-1\n",
    "def normalize(image, min_val, max_val):\n",
    "    return image.subtract(min_val).divide(max_val - min_val).clamp(0, 1)"
   ]
  },
  {
   "cell_type": "markdown",
   "metadata": {},
   "source": [
    "### Seasonal Ranges"
   ]
  },
  {
   "cell_type": "code",
   "execution_count": null,
   "metadata": {},
   "outputs": [],
   "source": [
    "# Season ranges\n",
    "season_ranges = {\n",
    "    'spring': {\n",
    "        'temp': (19, 28),\n",
    "        'vpd': (2.5, 5),\n",
    "        'wind': (0.1, 0.5),\n",
    "        'precip': (0.1, 0.15)\n",
    "    },\n",
    "    'summer': {\n",
    "        'temp': (25, 35),\n",
    "        'vpd': (1.5, 4),\n",
    "        'wind': (1.5, 3.5),\n",
    "        'precip': (0.1, 0.25)\n",
    "    },\n",
    "    'fall': {\n",
    "        'temp': (23, 29),\n",
    "        'vpd': (3.4, 4),\n",
    "        'wind': (0.9, 1.3),\n",
    "        'precip': (0.1, 0.15)\n",
    "    }\n",
    "}"
   ]
  },
  {
   "cell_type": "markdown",
   "metadata": {},
   "source": [
    "### Fire Weather Hazard Index Function"
   ]
  },
  {
   "cell_type": "code",
   "execution_count": null,
   "metadata": {},
   "outputs": [],
   "source": [
    "# Compute Fire Weather Hazard Index\n",
    "def compute_fw_hi(season_key):\n",
    "    start, end = seasons[season_key]\n",
    "    layers = get_seasonal_weather(start, end, hrm_aoi)\n",
    "    \n",
    "    ranges = season_ranges[season_key]\n",
    "    \n",
    "    norm_temp = normalize(layers['temp'], *ranges['temp'])\n",
    "    norm_vpd = normalize(layers['vpd'], *ranges['vpd'])\n",
    "    norm_wind = normalize(layers['wind'], *ranges['wind'])\n",
    "    norm_precip = normalize(layers['precip'], *ranges['precip'])\n",
    "    \n",
    "    fw_hi = (norm_temp.multiply(0.4)\n",
    "             .add(norm_wind.multiply(0.3))\n",
    "             .add(norm_precip.multiply(-0.2).add(0.2))\n",
    "             .add(norm_vpd.multiply(0.1))\n",
    "            ).clip(hrm_aoi)\n",
    "\n",
    "    return fw_hi"
   ]
  },
  {
   "cell_type": "markdown",
   "metadata": {},
   "source": [
    "### FWHI Classified"
   ]
  },
  {
   "cell_type": "code",
   "execution_count": null,
   "metadata": {},
   "outputs": [],
   "source": [
    "# Fire Weather Hazard class labels\n",
    "class_labels = {\n",
    "    1: 'Low',\n",
    "    2: 'Moderate',\n",
    "    3: 'High',\n",
    "    4: 'Extreme'\n",
    "}\n",
    "\n",
    "# Function for classified FWHI, Classify normalized FWHI into four categories: <=0.25: Low, <=0.5: Moderate, <=0.75: High, >0.75: Extreme\n",
    "\n",
    "def classify_fw_hi(fw_hi_img):\n",
    "    return (fw_hi_img\n",
    "            .expression(\n",
    "                \"(b <= 0.25) ? 1 : (b <= 0.5) ? 2 : (b <= 0.75) ? 3 : 4\",\n",
    "                {'b': fw_hi_img}\n",
    "            )\n",
    "            .rename('fw_class')\n",
    "            .clip(hrm_aoi))"
   ]
  },
  {
   "cell_type": "markdown",
   "metadata": {},
   "source": [
    "### Visualize, Add to Map & Export"
   ]
  },
  {
   "cell_type": "code",
   "execution_count": null,
   "metadata": {},
   "outputs": [],
   "source": [
    "# Visualization params\n",
    "class_vis = {\n",
    "    'min': 1,\n",
    "    'max': 4,\n",
    "    'palette': ['#a6cee3', '#1f78b4', '#fb9a99', '#e31a1c'],\n",
    "    'format': 'png'\n",
    "}\n",
    "\n",
    "# Function to export Earth Engine image locally using geemap\n",
    "def export_to_local(image, region, filename, scale=1000):\n",
    "    print(f\"Exporting {filename} ...\")\n",
    "    geemap.ee_export_image(\n",
    "        image,\n",
    "        filename,\n",
    "        scale=scale,\n",
    "        region=region,\n",
    "        file_per_band=False\n",
    "    )\n",
    "\n",
    "# Define export folder path\n",
    "export_folder = r\"D:\\Dropbox\\COGS\\Capstone\\data\\processed\"\n",
    "    \n",
    "# Add layers to the map AND export classified images locally\n",
    "for season in seasons.keys():\n",
    "    fw = compute_fw_hi(season)\n",
    "    classified = classify_fw_hi(fw)\n",
    "\n",
    "    # Add to map\n",
    "    Map.addLayer(classified, class_vis, f'FWHI Class {season.capitalize()}')\n",
    "\n",
    "    # Build full path for export\n",
    "    filename = f\"{export_folder}\\\\FWHI_Classified_{season}.tif\"\n",
    "    export_to_local(classified, hrm_aoi, filename)\n",
    "\n",
    "Map"
   ]
  },
  {
   "cell_type": "markdown",
   "metadata": {},
   "source": [
    "### Get Stats"
   ]
  },
  {
   "cell_type": "code",
   "execution_count": null,
   "metadata": {},
   "outputs": [],
   "source": [
    "# Helper for safe formatting\n",
    "def safe_fmt(val):\n",
    "    return f\"{val:.2f}\" if val is not None else \"N/A\"\n",
    "\n",
    "# Print stats for each season\n",
    "for season_key in seasons.keys():\n",
    "    start, end = seasons[season_key]\n",
    "    layers = get_seasonal_weather(start, end, hrm_aoi)\n",
    "\n",
    "    temp_stats = layers['temp'].reduceRegion(\n",
    "        reducer=ee.Reducer.minMax(),\n",
    "        geometry=hrm_aoi,\n",
    "        scale=1000,\n",
    "        maxPixels=1e9\n",
    "    ).getInfo()\n",
    "\n",
    "    vpd_stats = layers['vpd'].reduceRegion(\n",
    "        reducer=ee.Reducer.minMax(),\n",
    "        geometry=hrm_aoi,\n",
    "        scale=1000,\n",
    "        maxPixels=1e9\n",
    "    ).getInfo()\n",
    "\n",
    "    wind_stats = layers['wind'].reduceRegion(\n",
    "        reducer=ee.Reducer.minMax(),\n",
    "        geometry=hrm_aoi,\n",
    "        scale=1000,\n",
    "        maxPixels=1e9\n",
    "    ).getInfo()\n",
    "\n",
    "    precip_stats = layers['precip'].reduceRegion(\n",
    "        reducer=ee.Reducer.minMax(),\n",
    "        geometry=hrm_aoi,\n",
    "        scale=1000,\n",
    "        maxPixels=1e9\n",
    "    ).getInfo()\n",
    "\n",
    "    print(f\"\\n=== {season_key.upper()} Stats ===\")\n",
    "    print(f\"Temp Min: {safe_fmt(temp_stats.get('temperature_2m_min'))}, Max: {safe_fmt(temp_stats.get('temperature_2m_max'))}\")\n",
    "    print(f\"VPD  Min: {safe_fmt(vpd_stats.get('vpd_min'))}, Max: {safe_fmt(vpd_stats.get('vpd_max'))}\")\n",
    "    print(f\"Wind Min: {safe_fmt(wind_stats.get('wind_speed_min'))}, Max: {safe_fmt(wind_stats.get('wind_speed_max'))}\")\n",
    "    print(f\"Precip Min: {safe_fmt(precip_stats.get('total_precipitation_min'))}, Max: {safe_fmt(precip_stats.get('total_precipitation_max'))}\")"
   ]
  },
  {
   "cell_type": "markdown",
   "metadata": {},
   "source": [
    "### Code for exporting unclassed rasters"
   ]
  },
  {
   "cell_type": "code",
   "execution_count": null,
   "metadata": {},
   "outputs": [],
   "source": [
    "# Function to export Earth Engine image locally using geemap\n",
    "def export_to_local(image, region, filename, scale=1000):\n",
    "    print(f\"Exporting {filename} ...\")\n",
    "    geemap.ee_export_image(\n",
    "        image,\n",
    "        filename,\n",
    "        scale=scale,\n",
    "        region=region,\n",
    "        file_per_band=False\n",
    "    )\n",
    "\n",
    "export_folder = r\"D:\\Dropbox\\COGS\\Capstone\\data\\processed\"\n",
    "\n",
    "# --- SPRING ---\n",
    "fw_spring = compute_fw_hi('spring')\n",
    "Map.addLayer(fw_spring, {'min': 0, 'max': 2, 'palette': ['blue', 'yellow', 'red']}, 'FWHI Continuous Spring')\n",
    "filename_spring = f\"{export_folder}\\\\FWHI_Continuous_Spring.tif\"\n",
    "export_to_local(fw_spring, hrm_aoi, filename_spring)\n",
    "print(f\"Exported continuous FWHI raster for spring to:\\n{filename_spring}\")\n",
    "\n",
    "# --- SUMMER ---\n",
    "fw_summer = compute_fw_hi('summer')\n",
    "Map.addLayer(fw_summer, {'min': 0, 'max': 2, 'palette': ['blue', 'yellow', 'red']}, 'FWHI Continuous Summer')\n",
    "filename_summer = f\"{export_folder}\\\\FWHI_Continuous_Summer.tif\"\n",
    "export_to_local(fw_summer, hrm_aoi, filename_summer)\n",
    "print(f\"Exported continuous FWHI raster for summer to:\\n{filename_summer}\")\n",
    "\n",
    "# --- FALL ---\n",
    "fw_fall = compute_fw_hi('fall')\n",
    "Map.addLayer(fw_fall, {'min': 0, 'max': 2, 'palette': ['blue', 'yellow', 'red']}, 'FWHI Continuous Fall')\n",
    "filename_fall = f\"{export_folder}\\\\FWHI_Continuous_Fall.tif\"\n",
    "export_to_local(fw_fall, hrm_aoi, filename_fall)\n",
    "print(f\"Exported continuous FWHI raster for fall to:\\n{filename_fall}\")\n"
   ]
  }
 ],
 "metadata": {
  "kernelspec": {
   "display_name": "ArcGISPro",
   "language": "Python",
   "name": "python3"
  },
  "language_info": {
   "file_extension": ".py",
   "name": "python",
   "version": "3"
  }
 },
 "nbformat": 4,
 "nbformat_minor": 2
}

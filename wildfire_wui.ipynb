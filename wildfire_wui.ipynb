{
 "cells": [
  {
   "cell_type": "markdown",
   "metadata": {},
   "source": [
    "# GISY6400 Capstone - Wildfire Hazard: WUI"
   ]
  },
  {
   "cell_type": "markdown",
   "metadata": {},
   "source": [
    "Program: wildfire_wui.ipynb  \n",
    "Programmer: Brian Gauthier  \n",
    "Purpose: This notebook defines the wildland-urban interface (WUI)  \n",
    "Date: May 11, 2025"
   ]
  },
  {
   "cell_type": "markdown",
   "metadata": {},
   "source": [
    "### Import Python Modules"
   ]
  },
  {
   "cell_type": "code",
   "execution_count": 1,
   "metadata": {},
   "outputs": [],
   "source": [
    "import arcpy\n",
    "import os\n",
    "from arcpy.sa import *"
   ]
  },
  {
   "cell_type": "markdown",
   "metadata": {},
   "source": [
    "### Setup"
   ]
  },
  {
   "cell_type": "code",
   "execution_count": 2,
   "metadata": {},
   "outputs": [
    {
     "data": {
      "text/plain": [
       "'CheckedOut'"
      ]
     },
     "execution_count": 2,
     "metadata": {},
     "output_type": "execute_result"
    }
   ],
   "source": [
    "# Set ArcPy Workspace & overwrite options\n",
    "arcpy.env.workspace = r\"D:\\Dropbox\\COGS\\Capstone\\gis\\capstone.gdb\"\n",
    "arcpy.env.overwriteOutput = True\n",
    "\n",
    "arcpy.CheckOutExtension(\"Spatial\")"
   ]
  },
  {
   "cell_type": "markdown",
   "metadata": {},
   "source": [
    "### Define Variables"
   ]
  },
  {
   "cell_type": "code",
   "execution_count": 3,
   "metadata": {},
   "outputs": [],
   "source": [
    "# Buildings and forest feature classes from which all outputs originate\n",
    "buildings_fc = \"buildings_point\"\n",
    "forest_fc = \"forest_inv\""
   ]
  },
  {
   "cell_type": "markdown",
   "metadata": {},
   "source": [
    "### Create Filtered Forest Feature Classes (forest type, crown closure, volume and basal area parameters)"
   ]
  },
  {
   "cell_type": "code",
   "execution_count": 4,
   "metadata": {
    "scrolled": true
   },
   "outputs": [
    {
     "data": {
      "text/html": [
       "<div class='gpresult'><h2>Messages</h2><div id='messages'>Start Time: May 20, 2025 2:56:59 PM<br>Succeeded at May 20, 2025 2:57:03 PM (Elapsed Time: 4.24 seconds)<br></div><div id = 'default' /></div></div>"
      ],
      "text/plain": [
       "<Result 'D:\\\\Dropbox\\\\COGS\\\\Capstone\\\\gis\\\\capstone.gdb\\\\forest_75'>"
      ]
     },
     "execution_count": 4,
     "metadata": {},
     "output_type": "execute_result"
    }
   ],
   "source": [
    "# Create valid forest types feature class based on NSDNR forest types:\n",
    "\n",
    "# 0 natural stand\n",
    "# 1 treated\n",
    "# 4 sugarbush\n",
    "# 5 old field\n",
    "# 6 windthrow\n",
    "# 7 dead\n",
    "# 8 dead 1\n",
    "# 9 dead 2\n",
    "# 10 research stand\n",
    "# 11 seed and orchard\n",
    "# 12 treated stand\n",
    "# 13 dead 3\n",
    "# 14 dead 4\n",
    "# 15 dead 5\n",
    "# 16 moose meadow\n",
    "# 20 plantation\n",
    "# 39 alders 75%+\n",
    "# 61 partial depletion\n",
    "# 62 partial cut\n",
    "forest_types_fc = \"forest_types\"\n",
    "arcpy.analysis.Select(forest_fc, forest_types_fc, \"FORNON IN (0, 1, 4, 5, 6, 7, 8, 9, 10, 11, 12, 13, 14, 15, 16, 20, 39, 61, 62)\")\n",
    "\n",
    "# Create valid forest types feature class with <50% CC\n",
    "forest_50_less_fc = \"forest_50_less\"\n",
    "arcpy.analysis.Select(forest_types_fc, forest_50_less_fc, \"CRNCL < 50\")\n",
    "\n",
    "# Create valid forest types feature class with >= 50% CC\n",
    "forest_50_fc = \"forest_50\"\n",
    "arcpy.analysis.Select(forest_types_fc, forest_50_fc, \"CRNCL >= 50\")\n",
    "\n",
    "# Create valid forest types feature class type with >= 75% CC OR total stand basal area (m2/ha) OR total merch vol (m3/ha)\n",
    "forest_75_fc = \"forest_75\"\n",
    "arcpy.analysis.Select(forest_types_fc, forest_75_fc, \"(CRNCL >= 75 OR TOTSTDBA >= 10 OR TOTMRVOL >= 100)\")"
   ]
  },
  {
   "cell_type": "markdown",
   "metadata": {},
   "source": [
    "### WUI - Intermix"
   ]
  },
  {
   "cell_type": "code",
   "execution_count": null,
   "metadata": {
    "scrolled": true
   },
   "outputs": [],
   "source": [
    "# Spatial Join: Count buildings in forest stands that have >=50% CC\n",
    "f50_bldgs_fc = \"f50_bldgs\"\n",
    "arcpy.analysis.SpatialJoin(forest_50_fc, buildings_fc, f50_bldgs_fc, \n",
    "                           join_type=\"KEEP_COMMON\", join_operation=\"JOIN_ONE_TO_ONE\")\n",
    "\n",
    "# Add and calculate a field for building density (structures/km²)\n",
    "arcpy.management.AddField(f50_bldgs_fc, \"building_density\", \"FLOAT\")\n",
    "\n",
    "arcpy.management.CalculateField(f50_bldgs_fc, \"building_density\", \"!Join_Count! / !Shape_Area! * 1000000\", \"PYTHON3\")\n",
    "\n",
    "# Make a layer from f50_bldgs_fc to use for selection\n",
    "arcpy.management.MakeFeatureLayer(f50_bldgs_fc, \"f50_bldgs_lyr\")\n",
    "\n",
    "# Select stands with building density >= 6.17 structures/km²\n",
    "arcpy.management.SelectLayerByAttribute(\n",
    "    in_layer_or_view=\"f50_bldgs_lyr\",\n",
    "    selection_type=\"NEW_SELECTION\",\n",
    "    where_clause=\"building_density >= 6.17\")\n",
    "\n",
    "# Export selected stands (WUI Intermix) to a new feature class\n",
    "wui_intermix_fc = \"wui_intermix\"\n",
    "arcpy.management.CopyFeatures(\"f50_bldgs_lyr\", wui_intermix_fc)"
   ]
  },
  {
   "cell_type": "markdown",
   "metadata": {},
   "source": [
    "### WUI Interface"
   ]
  },
  {
   "cell_type": "code",
   "execution_count": 7,
   "metadata": {},
   "outputs": [
    {
     "data": {
      "text/html": [
       "<div class='gpresult'><h2>Messages</h2><div id='messages'>Start Time: May 20, 2025 3:07:47 PM<br>Succeeded at May 20, 2025 3:07:53 PM (Elapsed Time: 6.12 seconds)<br></div><div id = 'default' /></div></div>"
      ],
      "text/plain": [
       "<Result 'D:\\\\Dropbox\\\\COGS\\\\Capstone\\\\gis\\\\capstone.gdb\\\\wui_interface'>"
      ]
     },
     "execution_count": 7,
     "metadata": {},
     "output_type": "execute_result"
    }
   ],
   "source": [
    "# Join buildings feature class to stands with <50% CC\n",
    "f50less_bldgs_fc = \"f50less_bldgs\"\n",
    "arcpy.analysis.SpatialJoin(forest_50_less_fc, buildings_fc, f50less_bldgs_fc, \n",
    "                           join_type=\"KEEP_COMMON\", join_operation=\"JOIN_ONE_TO_ONE\")\n",
    "\n",
    "# Add field for building density (structures/km²) and calculate\n",
    "arcpy.management.AddField(f50less_bldgs_fc, \"building_density\", \"FLOAT\")\n",
    "arcpy.management.CalculateField(f50less_bldgs_fc, \"building_density\", \n",
    "                                \"!Join_Count! / !Shape_Area! * 1000000\", \"PYTHON3\")\n",
    "\n",
    "# Make a feature layer and select areas with building density >= 6.17\n",
    "arcpy.management.MakeFeatureLayer(f50less_bldgs_fc, \"f50less_bldgs_lyr\")\n",
    "arcpy.management.SelectLayerByAttribute(\"f50less_bldgs_lyr\", \"NEW_SELECTION\", \n",
    "                                        \"building_density >= 6.17\")\n",
    "\n",
    "# Dissolve wildland patches (≥75% CC or vol 100 m3 or ba 10 m2) to create larger blobs\n",
    "forest_75_dissolved_fc = \"forest_75_dissolved\"\n",
    "arcpy.management.Dissolve(forest_75_fc, forest_75_dissolved_fc, multi_part=\"SINGLE_PART\")\n",
    "\n",
    "# Add area field and calculate area\n",
    "arcpy.management.AddField(forest_75_dissolved_fc, \"area_sqm\", \"DOUBLE\")\n",
    "arcpy.management.CalculateGeometryAttributes(forest_75_dissolved_fc, [[\"area_sqm\", \"AREA\"]], \n",
    "                                             area_unit=\"SQUARE_METERS\")\n",
    "\n",
    "# Create a feature layer from dissolved forest\n",
    "arcpy.management.MakeFeatureLayer(forest_75_dissolved_fc, \"forest_75_dissolved_lyr\")\n",
    "\n",
    "# Select only features that are >= 5km²\n",
    "arcpy.management.SelectLayerByAttribute(\"forest_75_dissolved_lyr\", \"NEW_SELECTION\", \"area_sqm >= 5000000\")\n",
    "\n",
    "# Export selected features to a new feature class\n",
    "large_wildland_fc = \"large_wildland\"\n",
    "arcpy.management.CopyFeatures(\"forest_75_dissolved_lyr\", large_wildland_fc)\n",
    "\n",
    "# Buffer only the large wildland patches\n",
    "wildland_buffer_fc = \"wildland_buffer\"\n",
    "arcpy.analysis.Buffer(large_wildland_fc, wildland_buffer_fc, \"2.4 Kilometers\")\n",
    "\n",
    "# Select developed areas (<50% CC, ≥6.17 structures/km²) that intersect the buffer\n",
    "# This ensures both attribute and spatial filters are honored\n",
    "arcpy.management.SelectLayerByLocation(\"f50less_bldgs_lyr\", \"INTERSECT\", wildland_buffer_fc, \n",
    "                                       selection_type=\"SUBSET_SELECTION\")\n",
    "\n",
    "# Export final interface WUI areas\n",
    "wui_interface_fc = \"wui_interface\"\n",
    "arcpy.management.CopyFeatures(\"f50less_bldgs_lyr\", wui_interface_fc)"
   ]
  },
  {
   "cell_type": "markdown",
   "metadata": {},
   "source": [
    "### Combine WUI Interface and WUI Intermix"
   ]
  },
  {
   "cell_type": "code",
   "execution_count": 8,
   "metadata": {
    "scrolled": true
   },
   "outputs": [
    {
     "data": {
      "text/html": [
       "<div class='gpresult'><h2>Messages</h2><div id='messages'>Start Time: May 20, 2025 3:12:54 PM<br>Succeeded at May 20, 2025 3:12:58 PM (Elapsed Time: 4.50 seconds)<br></div><div id = 'default' /></div></div>"
      ],
      "text/plain": [
       "<Result 'D:\\\\Dropbox\\\\COGS\\\\Capstone\\\\gis\\\\capstone.gdb\\\\wui'>"
      ]
     },
     "execution_count": 8,
     "metadata": {},
     "output_type": "execute_result"
    }
   ],
   "source": [
    "# Final merge of Intermix and Interface zones into unified WUI feature class\n",
    "wui_fc = \"wui\"\n",
    "arcpy.management.Merge([\"wui_intermix\", \"wui_interface\"], wui_fc)"
   ]
  },
  {
   "cell_type": "code",
   "execution_count": null,
   "metadata": {},
   "outputs": [],
   "source": []
  }
 ],
 "metadata": {
  "kernelspec": {
   "display_name": "ArcGISPro",
   "language": "Python",
   "name": "python3"
  },
  "language_info": {
   "file_extension": ".py",
   "name": "python",
   "version": "3"
  }
 },
 "nbformat": 4,
 "nbformat_minor": 2
}
